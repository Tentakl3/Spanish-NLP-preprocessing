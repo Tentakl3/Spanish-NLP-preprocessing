{
 "cells": [
  {
   "cell_type": "markdown",
   "metadata": {},
   "source": [
    "# Tarea 1\n",
    "\n",
    "## Instrucciones\n",
    "\n",
    "Archivo $\\rightarrow$ Cadena de texto $\\rightarrow$ Preprosesamiento\n",
    "\n",
    "$\\downarrow$\n",
    "\n",
    "- Eliminación de HTML\n",
    "- Poner a minusculas\n",
    "- Tokeisación de las palabras\n",
    "- Eliminación de stopwords\n",
    "- Eliminacion de caracterés que no son letras\n",
    "- Etiqueta con POS\n",
    "- Lematización\n",
    "\n",
    "$\\downarrow$\n",
    "\n",
    "Texto -> Vocabulario \n",
    "\n",
    "$\\downarrow$\n",
    "\n",
    "Obtener contexto (lista de tokens) $\\rightarrow$ Obtner contexto para cada palabra del vocabulario $\\rightarrow$ Vectorizar los contextos (Matriz termino documento)\n",
    "\n",
    "$\\downarrow$\n",
    "\n",
    "$w_{ej}$ = organización\n",
    "\n",
    "$v_{ec}$ = vector de contexto $w_{ej}$\n",
    "\n",
    "$\\downarrow$\n",
    "\n",
    "- Calcular el producto punto entre $v_{ec}$ y todos los vectores en la TDM\n",
    "- Calcular el coseno entre $v_{ec}$ y todos los vectores en la TDM\n",
    "- Ordenar de mayor a menor\n",
    "\n",
    "$\\downarrow$\n",
    "\n",
    "Lista de palabras por valor del producto punto (w producto punto)\n",
    "\n",
    "Lista de palabras por valor de coseno (w coseno)\n"
   ]
  }
 ],
 "metadata": {
  "kernelspec": {
   "display_name": ".venv",
   "language": "python",
   "name": "python3"
  },
  "language_info": {
   "codemirror_mode": {
    "name": "ipython",
    "version": 3
   },
   "file_extension": ".py",
   "mimetype": "text/x-python",
   "name": "python",
   "nbconvert_exporter": "python",
   "pygments_lexer": "ipython3",
   "version": "3.12.0"
  }
 },
 "nbformat": 4,
 "nbformat_minor": 2
}
